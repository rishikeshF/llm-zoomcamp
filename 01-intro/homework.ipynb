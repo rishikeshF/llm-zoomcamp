{
 "cells": [
  {
   "cell_type": "code",
   "execution_count": 1,
   "id": "978c60de-e27a-4e6c-8d0b-7664f9912072",
   "metadata": {},
   "outputs": [],
   "source": [
    "import openai"
   ]
  },
  {
   "cell_type": "code",
   "execution_count": 2,
   "id": "4c09aaca-0770-4b27-bf91-807b2f7950e8",
   "metadata": {},
   "outputs": [],
   "source": [
    "from openai import OpenAI\n",
    "import os"
   ]
  },
  {
   "cell_type": "code",
   "execution_count": 3,
   "id": "afb2d5d2-6b2a-4e99-a72a-d6df1336d530",
   "metadata": {},
   "outputs": [],
   "source": [
    "#client = OpenAI(api_key='sk-fosdfJVqSaDNOPesdas8B4T3Blbasdfasdfafgratwbr10NBb7zb7I') \n",
    "client = os.environ['OPENAI_API_KEY']"
   ]
  },
  {
   "cell_type": "code",
   "execution_count": 11,
   "id": "a34e404c-48e6-463b-8c49-c34b069fea7b",
   "metadata": {},
   "outputs": [],
   "source": [
    "response = client.chat.completions.create(\n",
    "    model = 'gpt-4o',\n",
    "    messages = [{ \"role\" : \"user\", \"content\":\"Is it too late to join the course?\"}]\n",
    "    \n",
    ")"
   ]
  },
  {
   "cell_type": "code",
   "execution_count": 12,
   "id": "6a0b1cc7-b4cf-498b-80df-b6bab83b967e",
   "metadata": {},
   "outputs": [
    {
     "data": {
      "text/plain": [
       "\"Whether it’s too late to join a course depends on several factors such as the policies of the institution offering the course, the timing within the academic calendar, the nature of the course itself (e.g., semester-long, quarter-based, or a shorter module), and specific deadlines for registration and add/drop periods.\\n\\nHere are some steps you can take to find out if you can still join the course:\\n\\n1. **Check the Registration Deadlines**: Look for the official academic calendar on your institution’s website to find registration deadlines and the last date to add classes.\\n\\n2. **Contact the Registrar’s Office**: They can provide specific information about deadlines and possibly make exceptions in some cases.\\n\\n3. **Talk to the Instructor**: Sometimes instructors have the discretion to allow late additions to their courses, especially if you have a compelling reason for joining late.\\n\\n4. **Consider Online Courses**: If traditional courses are closed for enrollment, you might find similar courses offered online that have more flexible start dates.\\n\\n5. **Evaluate Your Situation**: Consider if you will be able to catch up on any missed material and handle the workload if you join late.\\n\\nIf enrollment is still open and/or exceptions can be made, make sure you're prepared to catch up on any missed content and stay on top of course requirements.\""
      ]
     },
     "execution_count": 12,
     "metadata": {},
     "output_type": "execute_result"
    }
   ],
   "source": [
    "response.choices[0].message.content"
   ]
  },
  {
   "cell_type": "code",
   "execution_count": null,
   "id": "adbaa27e-731e-4a7f-b7b4-959a58f149f0",
   "metadata": {},
   "outputs": [],
   "source": []
  }
 ],
 "metadata": {
  "kernelspec": {
   "display_name": "Python 3 (ipykernel)",
   "language": "python",
   "name": "python3"
  },
  "language_info": {
   "codemirror_mode": {
    "name": "ipython",
    "version": 3
   },
   "file_extension": ".py",
   "mimetype": "text/x-python",
   "name": "python",
   "nbconvert_exporter": "python",
   "pygments_lexer": "ipython3",
   "version": "3.10.13"
  }
 },
 "nbformat": 4,
 "nbformat_minor": 5
}
